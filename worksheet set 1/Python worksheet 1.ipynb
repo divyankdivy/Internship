{
 "cells": [
  {
   "cell_type": "code",
   "execution_count": 11,
   "id": "0ecc56a7",
   "metadata": {},
   "outputs": [
    {
     "name": "stdout",
     "output_type": "stream",
     "text": [
      "enter a non negative integer:  10\n",
      "thefactorial of 10 is 3628800\n"
     ]
    }
   ],
   "source": [
    "def factorial(n):\n",
    "    if n==1:\n",
    "        return 1\n",
    "    else:\n",
    "        return n*factorial(n-1)\n",
    "number = int(input('enter a non negative integer:  '))\n",
    "if number<0:\n",
    "    print('factorial is not defined for negative integers')\n",
    "else:\n",
    "    result = factorial(number)\n",
    "    print('thefactorial of', number, 'is',result )"
   ]
  },
  {
   "cell_type": "code",
   "execution_count": 14,
   "id": "8839f643",
   "metadata": {},
   "outputs": [
    {
     "name": "stdout",
     "output_type": "stream",
     "text": [
      "Enter a positive integer: 10\n",
      "10 is a composite number.\n"
     ]
    }
   ],
   "source": [
    "def is_prime(number):\n",
    "    if number < 2:\n",
    "        return False\n",
    "    for i in range(2, int(number**0.5) + 1):\n",
    "        if number % i == 0:\n",
    "            return False\n",
    "    return True\n",
    "number = int(input(\"Enter a positive integer: \"))\n",
    "\n",
    "if is_prime(number):\n",
    "    print(number, \"is a prime number.\")\n",
    "else:\n",
    "    print(number, \"is a composite number.\")"
   ]
  },
  {
   "cell_type": "code",
   "execution_count": 17,
   "id": "1ac745ad",
   "metadata": {},
   "outputs": [
    {
     "name": "stdout",
     "output_type": "stream",
     "text": [
      "Enter a string: Hello\n",
      "The string is not a palindrome.\n"
     ]
    }
   ],
   "source": [
    "def is_palindrome(string):\n",
    "    string = string.replace(\" \", \"\").lower()\n",
    "    return string == string[::-1]\n",
    "string = input(\"Enter a string: \")\n",
    "\n",
    "if is_palindrome(string):\n",
    "    print(\"The string is a palindrome.\")\n",
    "else:\n",
    "    print(\"The string is not a palindrome.\")"
   ]
  },
  {
   "cell_type": "code",
   "execution_count": 18,
   "id": "c98a82f1",
   "metadata": {},
   "outputs": [
    {
     "name": "stdout",
     "output_type": "stream",
     "text": [
      "Enter the length of side 1: 10\n",
      "Enter the length of side 2: 15\n",
      "The length of the third side is: 18.027756377319946\n"
     ]
    }
   ],
   "source": [
    "import math\n",
    "\n",
    "def calculate_third_side(side1, side2):\n",
    "    third_side = math.sqrt(side1**2 + side2**2)\n",
    "    return third_side\n",
    "side1 = float(input(\"Enter the length of side 1: \"))\n",
    "side2 = float(input(\"Enter the length of side 2: \"))\n",
    "third_side = calculate_third_side(side1, side2)\n",
    "print(\"The length of the third side is:\", third_side)"
   ]
  },
  {
   "cell_type": "code",
   "execution_count": null,
   "id": "f6dfdb54",
   "metadata": {},
   "outputs": [],
   "source": [
    "def character_frequency(string):\n",
    "    frequency = {}\n",
    "\n",
    "    for char in string:\n",
    "        if char in frequency:\n",
    "            frequency[char] += 1\n",
    "        else:\n",
    "            frequency[char] = 1\n",
    "\n",
    "    return frequency\n",
    "\n",
    "string = input(\"Enter a string: \")\n",
    "\n",
    "frequency = character_frequency(string)\n",
    "print(\"Character frequencies:\")\n",
    "for char, count in frequency.items():\n",
    "    print(char, \":\", count)\n"
   ]
  },
  {
   "cell_type": "code",
   "execution_count": null,
   "id": "c05b9ca1",
   "metadata": {},
   "outputs": [],
   "source": []
  }
 ],
 "metadata": {
  "kernelspec": {
   "display_name": "Python 3 (ipykernel)",
   "language": "python",
   "name": "python3"
  },
  "language_info": {
   "codemirror_mode": {
    "name": "ipython",
    "version": 3
   },
   "file_extension": ".py",
   "mimetype": "text/x-python",
   "name": "python",
   "nbconvert_exporter": "python",
   "pygments_lexer": "ipython3",
   "version": "3.9.12"
  }
 },
 "nbformat": 4,
 "nbformat_minor": 5
}
