{
 "cells": [
  {
   "cell_type": "markdown",
   "id": "2b0055dc",
   "metadata": {},
   "source": [
    "# Question 1- Write a Python program to check that a string contains only a certain set of characters (in this case a-z, A-Z and 0-9)."
   ]
  },
  {
   "cell_type": "code",
   "execution_count": 1,
   "id": "93555ef0",
   "metadata": {},
   "outputs": [
    {
     "name": "stdout",
     "output_type": "stream",
     "text": [
      "The string contains only allowed characters.\n"
     ]
    }
   ],
   "source": [
    "import re\n",
    "\n",
    "def contains_only_allowed_characters(string):\n",
    "    pattern = r'^[a-zA-Z0-9]+$'\n",
    "    return re.match(pattern, string) is not None\n",
    "\n",
    "test_string = 'Abc123'\n",
    "if contains_only_allowed_characters(test_string):\n",
    "    print(\"The string contains only allowed characters.\")\n",
    "else:\n",
    "    print(\"The string contains characters other than a-z, A-Z, and 0-9.\")"
   ]
  },
  {
   "cell_type": "markdown",
   "id": "e4ee35b5",
   "metadata": {},
   "source": [
    "# Question 2- Create a function in python that matches a string that has an a followed by zero or more b's"
   ]
  },
  {
   "cell_type": "code",
   "execution_count": 3,
   "id": "7c56f5dd",
   "metadata": {},
   "outputs": [
    {
     "name": "stdout",
     "output_type": "stream",
     "text": [
      "The string matches the pattern.\n"
     ]
    }
   ],
   "source": [
    "def match_a_followed_by_b(string):\n",
    "    pattern = r'^ab*$'\n",
    "    return re.match(pattern, string) is not None\n",
    "\n",
    "test_string = 'abb'\n",
    "if match_a_followed_by_b(test_string):\n",
    "    print(\"The string matches the pattern.\")\n",
    "else:\n",
    "    print(\"The string does not match the pattern.\")"
   ]
  },
  {
   "cell_type": "markdown",
   "id": "b7117734",
   "metadata": {},
   "source": [
    "# Question 3-  Create a function in python that matches a string that has an a followed by one or more b's"
   ]
  },
  {
   "cell_type": "code",
   "execution_count": 47,
   "id": "f9bfc22c",
   "metadata": {},
   "outputs": [
    {
     "name": "stdout",
     "output_type": "stream",
     "text": [
      "The string matches the pattern.\n"
     ]
    }
   ],
   "source": [
    "def match_a_followed_by_one_or_more_b(string):\n",
    "    pattern = r'^ab+$'\n",
    "    return re.match(pattern, string) is not None\n",
    "\n",
    "test_string = 'abb'\n",
    "if match_a_followed_by_one_or_more_b(test_string):\n",
    "    print(\"The string matches the pattern.\")\n",
    "else:\n",
    "    print(\"The string does not match the pattern.\")"
   ]
  },
  {
   "cell_type": "markdown",
   "id": "7d02e15a",
   "metadata": {},
   "source": [
    "# Question 4- Create a function in Python and use RegEx that matches a string that has an a followed by zero or one 'b'."
   ]
  },
  {
   "cell_type": "code",
   "execution_count": 5,
   "id": "6dae8531",
   "metadata": {},
   "outputs": [
    {
     "name": "stdout",
     "output_type": "stream",
     "text": [
      "The string matches the pattern.\n"
     ]
    }
   ],
   "source": [
    "def match_a_followed_by_zero_or_one_b(string):\n",
    "    pattern = r'^ab?$'\n",
    "    return re.match(pattern, string) is not None\n",
    "\n",
    "test_string = 'ab'\n",
    "if match_a_followed_by_zero_or_one_b(test_string):\n",
    "    print(\"The string matches the pattern.\")\n",
    "else:\n",
    "    print(\"The string does not match the pattern.\")"
   ]
  },
  {
   "cell_type": "markdown",
   "id": "5962e794",
   "metadata": {},
   "source": [
    "# Question 5- Write a Python program that matches a string that has an a followed by three 'b'."
   ]
  },
  {
   "cell_type": "code",
   "execution_count": 48,
   "id": "cdcdaf95",
   "metadata": {},
   "outputs": [
    {
     "name": "stdout",
     "output_type": "stream",
     "text": [
      "The string matches the pattern.\n"
     ]
    }
   ],
   "source": [
    "def match_a_followed_by_three_b(string):\n",
    "    pattern = r'^abb{3}$'\n",
    "    return re.match(pattern, string) is not None\n",
    "\n",
    "test_string = 'abbbb'\n",
    "if match_a_followed_by_three_b(test_string):\n",
    "    print(\"The string matches the pattern.\")\n",
    "else:\n",
    "    print(\"The string does not match the pattern.\")"
   ]
  },
  {
   "cell_type": "markdown",
   "id": "dd15639a",
   "metadata": {},
   "source": [
    "# Question 6- Write a regular expression in Python to split a string into uppercase letters."
   ]
  },
  {
   "cell_type": "code",
   "execution_count": 6,
   "id": "3371a8ed",
   "metadata": {},
   "outputs": [
    {
     "name": "stdout",
     "output_type": "stream",
     "text": [
      "['', 'Importance', 'Of', 'Regular', 'Expressions', 'In', 'Python']\n"
     ]
    }
   ],
   "source": [
    "def split_string_into_uppercase(text):\n",
    "    pattern = r'(?=[A-Z])'\n",
    "    return re.split(pattern, text)\n",
    "\n",
    "sample_text = \"ImportanceOfRegularExpressionsInPython\"\n",
    "result = split_string_into_uppercase(sample_text)\n",
    "print(result)"
   ]
  },
  {
   "cell_type": "markdown",
   "id": "6dd4a454",
   "metadata": {},
   "source": [
    "# Question 7- Write a Python program that matches a string that has an a followed by two to three 'b'."
   ]
  },
  {
   "cell_type": "code",
   "execution_count": 49,
   "id": "02245fe6",
   "metadata": {},
   "outputs": [
    {
     "name": "stdout",
     "output_type": "stream",
     "text": [
      "The string matches the pattern.\n"
     ]
    }
   ],
   "source": [
    "def match_a_followed_by_two_to_three_b(string):\n",
    "    pattern = r'^ab{2,3}$'\n",
    "    return re.match(pattern, string) is not None\n",
    "\n",
    "test_string = 'abb'\n",
    "if match_a_followed_by_two_to_three_b(test_string):\n",
    "    print(\"The string matches the pattern.\")\n",
    "else:\n",
    "    print(\"The string does not match the pattern.\")"
   ]
  },
  {
   "cell_type": "markdown",
   "id": "1d7510d1",
   "metadata": {},
   "source": [
    "# Question 8- Write a Python program to find sequences of lowercase letters joined with a underscore."
   ]
  },
  {
   "cell_type": "code",
   "execution_count": 8,
   "id": "c2d5a4be",
   "metadata": {},
   "outputs": [
    {
     "name": "stdout",
     "output_type": "stream",
     "text": [
      "['hello_world', 'is_a', 'of_lowercase']\n"
     ]
    }
   ],
   "source": [
    "def find_lowercase_sequences_with_underscore(text):\n",
    "    pattern = r'[a-z]+_[a-z]+'\n",
    "    return re.findall(pattern, text)\n",
    "\n",
    "sample_text = \"hello_world is_a_sequence of_lowercase_letters\"\n",
    "result = find_lowercase_sequences_with_underscore(sample_text)\n",
    "print(result)"
   ]
  },
  {
   "cell_type": "markdown",
   "id": "09e44938",
   "metadata": {},
   "source": [
    "# Question 9- Write a Python program that matches a string that has an 'a' followed by anything, ending in 'b'."
   ]
  },
  {
   "cell_type": "code",
   "execution_count": 9,
   "id": "22397079",
   "metadata": {},
   "outputs": [
    {
     "name": "stdout",
     "output_type": "stream",
     "text": [
      "The string matches the pattern.\n"
     ]
    }
   ],
   "source": [
    "def match_a_followed_by_anything_ending_with_b(string):\n",
    "    pattern = r'^a.*b$'\n",
    "    return re.match(pattern, string) is not None\n",
    "\n",
    "test_string = 'acdb'\n",
    "if match_a_followed_by_anything_ending_with_b(test_string):\n",
    "    print(\"The string matches the pattern.\")\n",
    "else:\n",
    "    print(\"The string does not match the pattern.\")"
   ]
  },
  {
   "cell_type": "markdown",
   "id": "172762d0",
   "metadata": {},
   "source": [
    "# Question 10- Write a Python program that matches a word at the beginning of a string."
   ]
  },
  {
   "cell_type": "code",
   "execution_count": 10,
   "id": "63ad0c8f",
   "metadata": {},
   "outputs": [
    {
     "name": "stdout",
     "output_type": "stream",
     "text": [
      "The word matches at the beginning of the string.\n"
     ]
    }
   ],
   "source": [
    "def match_word_at_beginning(string, word):\n",
    "    pattern = r'^' + re.escape(word)\n",
    "    return re.match(pattern, string) is not None\n",
    "\n",
    "test_string = 'Python programming is fun'\n",
    "word_to_match = 'Python'\n",
    "if match_word_at_beginning(test_string, word_to_match):\n",
    "    print(\"The word matches at the beginning of the string.\")\n",
    "else:\n",
    "    print(\"The word does not match at the beginning of the string.\")"
   ]
  },
  {
   "cell_type": "markdown",
   "id": "3e2a72dc",
   "metadata": {},
   "source": [
    "# Question 11- Write a Python program to match a string that contains only upper and lowercase letters, numbers, and underscores."
   ]
  },
  {
   "cell_type": "code",
   "execution_count": 11,
   "id": "80671892",
   "metadata": {},
   "outputs": [
    {
     "name": "stdout",
     "output_type": "stream",
     "text": [
      "The string contains only allowed characters.\n"
     ]
    }
   ],
   "source": [
    "def match_only_allowed_characters(string):\n",
    "    pattern = r'^[a-zA-Z0-9_]+$'\n",
    "    return re.match(pattern, string) is not None\n",
    "\n",
    "test_string = 'Abc123_'\n",
    "if match_only_allowed_characters(test_string):\n",
    "    print(\"The string contains only allowed characters.\")\n",
    "else:\n",
    "    print(\"The string contains characters other than letters, numbers, or underscores.\")"
   ]
  },
  {
   "cell_type": "markdown",
   "id": "528fc6d5",
   "metadata": {},
   "source": [
    "# Question 12- Write a Python program where a string will start with a specific number. "
   ]
  },
  {
   "cell_type": "code",
   "execution_count": 12,
   "id": "0f3973fe",
   "metadata": {},
   "outputs": [
    {
     "name": "stdout",
     "output_type": "stream",
     "text": [
      "The string starts with the specific number.\n"
     ]
    }
   ],
   "source": [
    "def starts_with_number(string, number):\n",
    "    return string.startswith(str(number))\n",
    "\n",
    "test_string = '123abc'\n",
    "specific_number = 123\n",
    "if starts_with_number(test_string, specific_number):\n",
    "    print(\"The string starts with the specific number.\")\n",
    "else:\n",
    "    print(\"The string does not start with the specific number.\")"
   ]
  },
  {
   "cell_type": "markdown",
   "id": "cb80df37",
   "metadata": {},
   "source": [
    "# Question 13- Write a Python program to remove leading zeros from an IP address"
   ]
  },
  {
   "cell_type": "code",
   "execution_count": 13,
   "id": "ebbb78aa",
   "metadata": {},
   "outputs": [
    {
     "name": "stdout",
     "output_type": "stream",
     "text": [
      "192.168.1.1\n"
     ]
    }
   ],
   "source": [
    "import re\n",
    "\n",
    "def remove_leading_zeros(ip_address):\n",
    "    pattern = r'\\b0+(\\d+)\\b'\n",
    "    result = re.sub(pattern, r'\\1', ip_address)\n",
    "    return result\n",
    "\n",
    "ip_address = '192.168.001.001'\n",
    "result = remove_leading_zeros(ip_address)\n",
    "print(result)"
   ]
  },
  {
   "cell_type": "markdown",
   "id": "3cff1f83",
   "metadata": {},
   "source": [
    "#  Question 14- Write a regular expression in python to match a date string in the form of Month name followed by day number and year stored in a text file."
   ]
  },
  {
   "cell_type": "code",
   "execution_count": 38,
   "id": "5e589ac7",
   "metadata": {},
   "outputs": [],
   "source": [
    "myfile=open('/Users/divyankrajput/Documents/mydate.txt','w')"
   ]
  },
  {
   "cell_type": "code",
   "execution_count": 39,
   "id": "91d3813d",
   "metadata": {},
   "outputs": [
    {
     "data": {
      "text/plain": [
       "153"
      ]
     },
     "execution_count": 39,
     "metadata": {},
     "output_type": "execute_result"
    }
   ],
   "source": [
    "myfile.write('On August 15th 1947 that India was declared independent from British colonialism, and the reins of control were handed over to the leaders of the Country')"
   ]
  },
  {
   "cell_type": "code",
   "execution_count": 40,
   "id": "41cec897",
   "metadata": {},
   "outputs": [],
   "source": [
    "myfile.close()"
   ]
  },
  {
   "cell_type": "code",
   "execution_count": 41,
   "id": "0e25d9d7",
   "metadata": {},
   "outputs": [
    {
     "name": "stdout",
     "output_type": "stream",
     "text": [
      "August 15th 1947\n"
     ]
    }
   ],
   "source": [
    "pattern = r'(?:January|February|March|April|May|June|July|August|September|October|November|December)\\s+\\d{1,2}(?:st|nd|rd|th)?\\s+\\d{4}'\n",
    "\n",
    "myfile=open('/Users/divyankrajput/Documents/mydate.txt','r')\n",
    "text=myfile.read()\n",
    "\n",
    "# Find the first match in the text\n",
    "match = re.search(pattern, text)\n",
    "\n",
    "# Extract the matched date string\n",
    "if match:\n",
    "    date_string = match.group(0)\n",
    "    print(date_string)\n",
    "else:\n",
    "    print(\"No match found.\")"
   ]
  },
  {
   "cell_type": "markdown",
   "id": "d0e8d380",
   "metadata": {},
   "source": [
    "# Write a Python program to search some literals strings in a string. Go to the editor"
   ]
  },
  {
   "cell_type": "code",
   "execution_count": 23,
   "id": "48992f1f",
   "metadata": {},
   "outputs": [
    {
     "name": "stdout",
     "output_type": "stream",
     "text": [
      "fox\n",
      "dog\n"
     ]
    }
   ],
   "source": [
    "import re\n",
    "\n",
    "def search_literals_in_text(text, searched_words):\n",
    "    pattern = r'\\b(?:' + '|'.join(map(re.escape, searched_words)) + r')\\b'\n",
    "    matches = re.findall(pattern, text)\n",
    "    return matches\n",
    "\n",
    "sample_text = 'The quick brown fox jumps over the lazy dog.'\n",
    "searched_words = ['fox', 'dog', 'horse']\n",
    "\n",
    "found_words = search_literals_in_text(sample_text, searched_words)\n",
    "\n",
    "for word in found_words:\n",
    "    print(word)\n"
   ]
  },
  {
   "cell_type": "markdown",
   "id": "0ad96779",
   "metadata": {},
   "source": [
    "# Question 16- Write a Python program to search a literals string in a string and also find the location within the original string where the pattern occurs"
   ]
  },
  {
   "cell_type": "code",
   "execution_count": 24,
   "id": "2bec1441",
   "metadata": {},
   "outputs": [
    {
     "name": "stdout",
     "output_type": "stream",
     "text": [
      "The word 'fox' found at index 16 to 18.\n"
     ]
    }
   ],
   "source": [
    "import re\n",
    "\n",
    "def search_literals_with_location(text, searched_word):\n",
    "    pattern = re.escape(searched_word)\n",
    "    matches = re.finditer(pattern, text)\n",
    "    locations = [(match.start(), match.end()) for match in matches]\n",
    "    return locations\n",
    "\n",
    "sample_text = 'The quick brown fox jumps over the lazy dog.'\n",
    "searched_word = 'fox'\n",
    "\n",
    "found_locations = search_literals_with_location(sample_text, searched_word)\n",
    "\n",
    "for start, end in found_locations:\n",
    "    print(f\"The word '{searched_word}' found at index {start} to {end-1}.\")"
   ]
  },
  {
   "cell_type": "markdown",
   "id": "d962a766",
   "metadata": {},
   "source": [
    "# Question 17- Write a Python program to find the substrings within a string"
   ]
  },
  {
   "cell_type": "code",
   "execution_count": 25,
   "id": "9e095acd",
   "metadata": {},
   "outputs": [
    {
     "name": "stdout",
     "output_type": "stream",
     "text": [
      "exercises\n",
      "exercises\n",
      "exercises\n"
     ]
    }
   ],
   "source": [
    "import re\n",
    "\n",
    "def find_substrings(text, pattern):\n",
    "    matches = re.finditer(pattern, text)\n",
    "    substrings = [match.group(0) for match in matches]\n",
    "    return substrings\n",
    "\n",
    "sample_text = 'Python exercises, PHP exercises, C# exercises'\n",
    "pattern = 'exercises'\n",
    "\n",
    "found_substrings = find_substrings(sample_text, pattern)\n",
    "\n",
    "for substring in found_substrings:\n",
    "    print(substring)\n"
   ]
  },
  {
   "cell_type": "markdown",
   "id": "5aade7d3",
   "metadata": {},
   "source": [
    "# Question 18- Write a Python program to find the occurrence and position of the substrings within a string."
   ]
  },
  {
   "cell_type": "code",
   "execution_count": 26,
   "id": "897b09ba",
   "metadata": {},
   "outputs": [
    {
     "name": "stdout",
     "output_type": "stream",
     "text": [
      "Substring 'is' found at position 12 to 13.\n"
     ]
    }
   ],
   "source": [
    "def find_substring_occurrences_positions(text, substring):\n",
    "    pattern = re.escape(substring)\n",
    "    matches = re.finditer(pattern, text)\n",
    "    occurrences = []\n",
    "    for match in matches:\n",
    "        start = match.start()\n",
    "        end = match.end()\n",
    "        occurrence = {\n",
    "            'substring': substring,\n",
    "            'start': start,\n",
    "            'end': end,\n",
    "        }\n",
    "        occurrences.append(occurrence)\n",
    "    return occurrences\n",
    "\n",
    "sample_text = 'Hi, My name is Divyank Rajput'\n",
    "substring = 'is'\n",
    "\n",
    "occurrences_positions = find_substring_occurrences_positions(sample_text, substring)\n",
    "\n",
    "for occurrence in occurrences_positions:\n",
    "    print(f\"Substring '{occurrence['substring']}' found at position {occurrence['start']} to {occurrence['end']-1}.\")\n"
   ]
  },
  {
   "cell_type": "markdown",
   "id": "47244233",
   "metadata": {},
   "source": [
    "# Question 19- Write a Python program to convert a date of yyyy-mm-dd format to dd-mm-yyyy format."
   ]
  },
  {
   "cell_type": "code",
   "execution_count": 27,
   "id": "1c1aef7a",
   "metadata": {},
   "outputs": [
    {
     "name": "stdout",
     "output_type": "stream",
     "text": [
      "16-07-2023\n"
     ]
    }
   ],
   "source": [
    "def convert_date_format(date):\n",
    "    pattern = r'^(\\d{4})-(\\d{2})-(\\d{2})$'\n",
    "    substitution = r'\\3-\\2-\\1'\n",
    "    converted_date = re.sub(pattern, substitution, date)\n",
    "    return converted_date\n",
    "\n",
    "date = '2023-07-16'\n",
    "converted_date = convert_date_format(date)\n",
    "print(converted_date)"
   ]
  },
  {
   "cell_type": "markdown",
   "id": "f62eafd3",
   "metadata": {},
   "source": [
    "# Question 20- Write a Python program to find all words starting with 'a' or 'e' in a given string."
   ]
  },
  {
   "cell_type": "code",
   "execution_count": 28,
   "id": "db888743",
   "metadata": {},
   "outputs": [
    {
     "name": "stdout",
     "output_type": "stream",
     "text": [
      "['An', 'apple', 'away', 'Eat', 'eggs', 'every']\n"
     ]
    }
   ],
   "source": [
    "import re\n",
    "\n",
    "def find_words_starting_with_a_or_e(text):\n",
    "    pattern = r'\\b[aAeE]\\w+'\n",
    "    matches = re.findall(pattern, text)\n",
    "    return matches\n",
    "\n",
    "sample_text = 'An apple a day keeps the doctor away. Eat your eggs every morning.'\n",
    "found_words = find_words_starting_with_a_or_e(sample_text)\n",
    "print(found_words)"
   ]
  },
  {
   "cell_type": "markdown",
   "id": "bdf6d653",
   "metadata": {},
   "source": [
    "# Question 21- Write a Python program to separate and print the numbers and their position of a given string."
   ]
  },
  {
   "cell_type": "code",
   "execution_count": 29,
   "id": "e0cf8398",
   "metadata": {},
   "outputs": [
    {
     "name": "stdout",
     "output_type": "stream",
     "text": [
      "Number: 10, Position: 7-8\n",
      "Number: 5, Position: 21-21\n"
     ]
    }
   ],
   "source": [
    "def separate_numbers_with_positions(text):\n",
    "    pattern = r'\\d+'\n",
    "    matches = re.finditer(pattern, text)\n",
    "    for match in matches:\n",
    "        number = match.group()\n",
    "        start = match.start()\n",
    "        end = match.end()\n",
    "        print(f\"Number: {number}, Position: {start}-{end-1}\")\n",
    "\n",
    "sample_text = 'I have 10 apples and 5 oranges.'\n",
    "separate_numbers_with_positions(sample_text)\n"
   ]
  },
  {
   "cell_type": "markdown",
   "id": "41ace432",
   "metadata": {},
   "source": [
    "# Question 22- Write a regular expression in python program to extract maximum numeric value from a string"
   ]
  },
  {
   "cell_type": "code",
   "execution_count": 36,
   "id": "d559d7ab",
   "metadata": {},
   "outputs": [
    {
     "name": "stdout",
     "output_type": "stream",
     "text": [
      "100\n"
     ]
    }
   ],
   "source": [
    "import re\n",
    "\n",
    "def extract_maximum_numeric_value(text):\n",
    "    numeric_values = re.findall(r'\\d+(?:\\.\\d+)?', text)\n",
    "    if numeric_values:\n",
    "        numeric_values = [float(value) if '.' in value else int(value) for value in numeric_values]\n",
    "        return max(numeric_values)\n",
    "    else:\n",
    "        return None\n",
    "\n",
    "# Test the function\n",
    "sample_text = 'The maximum value is 42.5, but it could be 100 or 78.2.'\n",
    "maximum_value = extract_maximum_numeric_value(sample_text)\n",
    "print(maximum_value)"
   ]
  },
  {
   "cell_type": "markdown",
   "id": "ffa6b874",
   "metadata": {},
   "source": [
    "# Question 23- Write a Regex in Python to put spaces between words starting with capital letters"
   ]
  },
  {
   "cell_type": "code",
   "execution_count": 30,
   "id": "9fea1aa5",
   "metadata": {},
   "outputs": [
    {
     "name": "stdout",
     "output_type": "stream",
     "text": [
      "This Is A Regular Expression Example\n"
     ]
    }
   ],
   "source": [
    "import re\n",
    "\n",
    "def add_spaces_between_capital_words(text):\n",
    "    pattern = r'(?<!\\b)(?=[A-Z])'\n",
    "    substitution = ' '\n",
    "    result = re.sub(pattern, substitution, text)\n",
    "    return result\n",
    "\n",
    "sample_text = 'ThisIsARegularExpressionExample'\n",
    "result = add_spaces_between_capital_words(sample_text)\n",
    "print(result)\n"
   ]
  },
  {
   "cell_type": "markdown",
   "id": "30635ef1",
   "metadata": {},
   "source": [
    "# Question 24- Python regex to find sequences of one upper case letter followed by lower case letters"
   ]
  },
  {
   "cell_type": "code",
   "execution_count": 31,
   "id": "a8b801f1",
   "metadata": {},
   "outputs": [
    {
     "name": "stdout",
     "output_type": "stream",
     "text": [
      "['Hello', 'World', 'Open']\n"
     ]
    }
   ],
   "source": [
    "import re\n",
    "\n",
    "def find_sequences_of_uppercase_followed_by_lowercase(text):\n",
    "    pattern = r'[A-Z][a-z]+'\n",
    "    matches = re.findall(pattern, text)\n",
    "    return matches\n",
    "\n",
    "sample_text = 'Hello World, OpenAI'\n",
    "sequences = find_sequences_of_uppercase_followed_by_lowercase(sample_text)\n",
    "print(sequences)\n"
   ]
  },
  {
   "cell_type": "markdown",
   "id": "e4571db6",
   "metadata": {},
   "source": [
    "# Question 25- Write a Python program to remove duplicate words from Sentence using Regular Expression"
   ]
  },
  {
   "cell_type": "code",
   "execution_count": 32,
   "id": "e3bba742",
   "metadata": {},
   "outputs": [
    {
     "name": "stdout",
     "output_type": "stream",
     "text": [
      "This is a sentence. The test sentence should have duplicate words removed.\n"
     ]
    }
   ],
   "source": [
    "import re\n",
    "\n",
    "def remove_duplicate_words(sentence):\n",
    "    pattern = r'\\b(\\w+)\\b\\s+(?=.*\\b\\1\\b)'\n",
    "    result = re.sub(pattern, '', sentence)\n",
    "    return result\n",
    "\n",
    "sample_sentence = 'This is a test test sentence. The test sentence should have duplicate words removed.'\n",
    "result = remove_duplicate_words(sample_sentence)\n",
    "print(result)\n"
   ]
  },
  {
   "cell_type": "markdown",
   "id": "152d6afe",
   "metadata": {},
   "source": [
    "# Question 26-  Write a python program using RegEx to accept string ending with alphanumeric character."
   ]
  },
  {
   "cell_type": "code",
   "execution_count": 33,
   "id": "2e7b7702",
   "metadata": {},
   "outputs": [
    {
     "name": "stdout",
     "output_type": "stream",
     "text": [
      "The string ends with an alphanumeric character.\n"
     ]
    }
   ],
   "source": [
    "import re\n",
    "\n",
    "def accept_string_ending_with_alphanumeric(string):\n",
    "    pattern = r'^.*[a-zA-Z0-9]$'\n",
    "    return re.match(pattern, string) is not None\n",
    "\n",
    "test_string = 'Hello123'\n",
    "if accept_string_ending_with_alphanumeric(test_string):\n",
    "    print(\"The string ends with an alphanumeric character.\")\n",
    "else:\n",
    "    print(\"The string does not end with an alphanumeric character.\")"
   ]
  },
  {
   "cell_type": "markdown",
   "id": "d41d6ecd",
   "metadata": {},
   "source": [
    "# Question 27-Write a python program using RegEx to extract the hashtags."
   ]
  },
  {
   "cell_type": "code",
   "execution_count": 34,
   "id": "7cf768de",
   "metadata": {},
   "outputs": [
    {
     "name": "stdout",
     "output_type": "stream",
     "text": [
      "['#Doltiwal', '#xyzabc', '#Demonetization']\n"
     ]
    }
   ],
   "source": [
    "import re\n",
    "\n",
    "def extract_hashtags(text):\n",
    "    pattern = r'#\\w+'\n",
    "    hashtags = re.findall(pattern, text)\n",
    "    return hashtags\n",
    "\n",
    "sample_text = \"\"\"RT @kapil_kausik: #Doltiwal I mean #xyzabc is \"hurt\" by #Demonetization as the same has rendered USELESS <ed><U+00A0><U+00BD><ed><U+00B1><U+0089> \"acquired funds\" No wo\"\"\"\n",
    "hashtags = extract_hashtags(sample_text)\n",
    "print(hashtags)"
   ]
  },
  {
   "cell_type": "markdown",
   "id": "7c69e0f4",
   "metadata": {},
   "source": [
    "# Question 28- Write a python program using RegEx to remove <U+..> like symbols\n",
    "Check the below sample text, there are strange symbols something of the sort <U+..> all over the place. You need to come up with a general Regex expression that will cover all such symbols.\n"
   ]
  },
  {
   "cell_type": "code",
   "execution_count": 35,
   "id": "ff133302",
   "metadata": {},
   "outputs": [
    {
     "name": "stdout",
     "output_type": "stream",
     "text": [
      "@Jags123456 Bharat band on 28??<ed><ed>Those who  are protesting #demonetization  are all different party leaders\n"
     ]
    }
   ],
   "source": [
    "def remove_U_plus_symbols(text):\n",
    "    pattern = r'<U\\+\\w+>'\n",
    "    cleaned_text = re.sub(pattern, '', text)\n",
    "    return cleaned_text\n",
    "\n",
    "sample_text = \"@Jags123456 Bharat band on 28??<ed><U+00A0><U+00BD><ed><U+00B8><U+0082>Those who  are protesting #demonetization  are all different party leaders\"\n",
    "cleaned_text = remove_U_plus_symbols(sample_text)\n",
    "print(cleaned_text)"
   ]
  },
  {
   "cell_type": "markdown",
   "id": "7be699ec",
   "metadata": {},
   "source": [
    "# Question 29- Write a python program to extract dates from the text stored in the text file."
   ]
  },
  {
   "cell_type": "code",
   "execution_count": 43,
   "id": "4908b15a",
   "metadata": {},
   "outputs": [],
   "source": [
    "myfile2=open('/Users/divyankrajput/Documents/mydate2.txt','w')"
   ]
  },
  {
   "cell_type": "code",
   "execution_count": 44,
   "id": "e6188e72",
   "metadata": {},
   "outputs": [
    {
     "data": {
      "text/plain": [
       "67"
      ]
     },
     "execution_count": 44,
     "metadata": {},
     "output_type": "execute_result"
    }
   ],
   "source": [
    "myfile2.write(\"Ron was born on 12-09-1992 and he was addmited to school 15-12-1999\")"
   ]
  },
  {
   "cell_type": "code",
   "execution_count": 45,
   "id": "9e036cc0",
   "metadata": {},
   "outputs": [],
   "source": [
    "myfile2.close()"
   ]
  },
  {
   "cell_type": "code",
   "execution_count": 46,
   "id": "6af87f7a",
   "metadata": {},
   "outputs": [
    {
     "name": "stdout",
     "output_type": "stream",
     "text": [
      "['12-09-1992', '15-12-1999']\n"
     ]
    }
   ],
   "source": [
    "pattern = \"\\d{2}-\\d{2}-\\d{4}\"\n",
    "myfile2=open('/Users/divyankrajput/Documents/mydate.txt','r')\n",
    "text=myfile2.read()\n",
    "me = re.findall(pattern, text)\n",
    "print(me)"
   ]
  },
  {
   "cell_type": "markdown",
   "id": "a08cf90e",
   "metadata": {},
   "source": [
    "# Question 30- Write a Python program to replace all occurrences of a space, comma, or dot with a colon."
   ]
  },
  {
   "cell_type": "code",
   "execution_count": 37,
   "id": "88ef72b0",
   "metadata": {},
   "outputs": [
    {
     "name": "stdout",
     "output_type": "stream",
     "text": [
      "Python:Exercises::PHP:exercises:\n"
     ]
    }
   ],
   "source": [
    "def replace_space_comma_dot_with_colon(text):\n",
    "    pattern = r'[ ,.]'\n",
    "    replacement = ':'\n",
    "    result = re.sub(pattern, replacement, text)\n",
    "    return result\n",
    "\n",
    "sample_text = 'Python Exercises, PHP exercises.'\n",
    "result = replace_space_comma_dot_with_colon(sample_text)\n",
    "print(result)"
   ]
  }
 ],
 "metadata": {
  "kernelspec": {
   "display_name": "Python 3 (ipykernel)",
   "language": "python",
   "name": "python3"
  },
  "language_info": {
   "codemirror_mode": {
    "name": "ipython",
    "version": 3
   },
   "file_extension": ".py",
   "mimetype": "text/x-python",
   "name": "python",
   "nbconvert_exporter": "python",
   "pygments_lexer": "ipython3",
   "version": "3.9.12"
  }
 },
 "nbformat": 4,
 "nbformat_minor": 5
}
